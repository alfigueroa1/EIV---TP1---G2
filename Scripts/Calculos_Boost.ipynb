{
 "cells": [
  {
   "attachments": {},
   "cell_type": "markdown",
   "metadata": {},
   "source": [
    "**Boost Ideal CCM**\n",
    "\n",
    "Dados los datos: \n",
    "- $F_{sw} = 40kHz$\n",
    "- $V_d = 6V$\n",
    "- $V_o = 15V$\n",
    "- $\\frac{\\Delta V_o}{V_o} = 7\\%$\n",
    "- $V_{GG} = 18V$\n",
    "\n",
    "Obtenemos:"
   ]
  },
  {
   "cell_type": "code",
   "execution_count": 2,
   "metadata": {},
   "outputs": [],
   "source": [
    "import numpy as np\n",
    "\n",
    "# Data\n",
    "Fsw = 40E3\n",
    "Ts = 1/Fsw\n",
    "Vd = 6\n",
    "Vo = 15\n",
    "Vo_ripple = 0.07\n",
    "Delta_Vo = Vo*Vo_ripple\n",
    "VGG = 18\n",
    "\n",
    "L = 220E-6\n",
    "L_tol = 0.1\n",
    "L_Q = 20"
   ]
  },
  {
   "cell_type": "code",
   "execution_count": 10,
   "metadata": {},
   "outputs": [
    {
     "name": "stdout",
     "output_type": "stream",
     "text": [
      "Io = 100mA\n",
      "Iob = 81.8mA\n",
      "\n",
      "Boost CCM\n",
      "D = 0.6\n",
      "Ix = 250mA\n",
      "Delta_IL = 409mA\n",
      "Capacitor caso triángulo\n",
      "C = 1.46uF\n"
     ]
    }
   ],
   "source": [
    "from utils import to_unit\n",
    "from boost import *\n",
    "\n",
    "# Definir una R de carga\n",
    "R = 150\n",
    "Io = Vo/R\n",
    "print('Io = ' + to_unit(Io) + 'A')\n",
    "\n",
    "# Calculamos D inicial\n",
    "D = 1-Vd/Vo\n",
    "\n",
    "# Averiguamos si estamos en CCM o DCM\n",
    "Iob = Vo*Ts*((1-D)**2)*D / (2*L)\n",
    "print('Iob = ' + to_unit(Iob) + 'A')\n",
    "print('')\n",
    "\n",
    "if Io >= Iob:\n",
    "    # Estamos en CCM\n",
    "    print(\"Boost CCM\")\n",
    "    print(f'D = {D:.2g}')\n",
    "\n",
    "    Ix = Io/(1-D)\n",
    "    print('Ix = ' + to_unit(Ix) + 'A')\n",
    "    \n",
    "    Delta_Il = (Vd/L)*D*Ts\n",
    "    print('Delta_IL = ' + to_unit(Delta_Il) + 'A')\n",
    "\n",
    "    # Calculo C\n",
    "    C = CCM_get_C(Vd, Vo, D, Ts, L, Io, Delta_Vo)\n",
    "    print(\"C = \" + to_unit(C) + 'F')\n",
    "\n",
    "else:\n",
    "    # Estamos en DCM\n",
    "    print(\"Boost DCM\")\n",
    "    \n",
    "    # Tiempos\n",
    "    D = np.sqrt(( 2*L*Io / (Vd*Ts)) * (Vo/Vd - 1))\n",
    "    Delta_1 = 2*L*Io / (Vd*D*Ts)\n",
    "    print(f'D = {D:.2g}')\n",
    "    print(f'Delta_1 = {Delta_1:.2g}')\n",
    "    \n",
    "    # Corrientes\n",
    "    Delta_Il = (Vd/L)*D*Ts\n",
    "    print('Delta_IL = ' + to_unit(Delta_Il) + 'A')\n",
    "    \n",
    "\t# Calculo C\n",
    "    C = DCM_get_C(Vd, Vo, D, Ts, L, Io, Delta_Vo)\n",
    "    print(\"C = \" + to_unit(C) + 'F')"
   ]
  }
 ],
 "metadata": {
  "kernelspec": {
   "display_name": "Python 3",
   "language": "python",
   "name": "python3"
  },
  "language_info": {
   "codemirror_mode": {
    "name": "ipython",
    "version": 3
   },
   "file_extension": ".py",
   "mimetype": "text/x-python",
   "name": "python",
   "nbconvert_exporter": "python",
   "pygments_lexer": "ipython3",
   "version": "3.10.7"
  },
  "orig_nbformat": 4
 },
 "nbformat": 4,
 "nbformat_minor": 2
}
