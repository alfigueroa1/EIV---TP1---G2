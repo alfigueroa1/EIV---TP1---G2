{
 "cells": [
  {
   "attachments": {},
   "cell_type": "markdown",
   "metadata": {},
   "source": [
    "**Boost Ideal CCM**\n",
    "\n",
    "Dados los datos: \n",
    "- $F_{sw} = 40kHz$\n",
    "- $V_d = 6V$\n",
    "- $V_o = 15V$\n",
    "- $\\frac{\\Delta V_o}{V_o} = 7\\%$\n",
    "- $V_{GG} = 18V$\n",
    "\n",
    "Obtenemos:"
   ]
  },
  {
   "cell_type": "code",
   "execution_count": 1,
   "metadata": {},
   "outputs": [],
   "source": [
    "import numpy as np\n",
    "\n",
    "# Data\n",
    "fsw = 40E3\n",
    "Ts = 1/fsw\n",
    "Vd = 6\n",
    "Vo = 15\n",
    "Vo_ripple = 0.07\n",
    "Delta_Vo = Vo*Vo_ripple\n",
    "VGG = 18\n",
    "\n",
    "L = 220E-6\n",
    "L_tol = 0.1\n",
    "L_Q = 20\n",
    "R_L = 2*np.pi*fsw*L/L_Q\n",
    "ESR = 0.8"
   ]
  },
  {
   "cell_type": "code",
   "execution_count": 3,
   "metadata": {},
   "outputs": [
    {
     "name": "stdout",
     "output_type": "stream",
     "text": [
      "Io = 30mA\n",
      "Iob = 81.8mA\n",
      "\n",
      "Boost DCM\n",
      "D = 0.36\n",
      "Delta_1 = 0.24\n",
      "Delta_IL = 248mA\n",
      "IL_max = 248mA\n"
     ]
    },
    {
     "ename": "NameError",
     "evalue": "name 'Delta_Q' is not defined",
     "output_type": "error",
     "traceback": [
      "\u001b[1;31m---------------------------------------------------------------------------\u001b[0m",
      "\u001b[1;31mNameError\u001b[0m                                 Traceback (most recent call last)",
      "Cell \u001b[1;32mIn[3], line 54\u001b[0m\n\u001b[0;32m     51\u001b[0m     C \u001b[39m=\u001b[39m DCM_get_Delta_Q(Vd, Vo, D, Ts, L, Io, Delta_Vo)\n\u001b[0;32m     53\u001b[0m Delta_Vc \u001b[39m=\u001b[39m Delta_Vo \u001b[39m-\u001b[39m Delta_Il\u001b[39m*\u001b[39mESR\n\u001b[1;32m---> 54\u001b[0m C \u001b[39m=\u001b[39m Delta_Q\u001b[39m/\u001b[39mDelta_Vc\n\u001b[0;32m     55\u001b[0m \u001b[39mprint\u001b[39m(\u001b[39m'\u001b[39m\u001b[39mC = \u001b[39m\u001b[39m'\u001b[39m \u001b[39m+\u001b[39m to_unit(C) \u001b[39m+\u001b[39m \u001b[39m'\u001b[39m\u001b[39mF\u001b[39m\u001b[39m'\u001b[39m)    \n\u001b[0;32m     57\u001b[0m \u001b[39mprint\u001b[39m(\u001b[39m'\u001b[39m\u001b[39mPo = \u001b[39m\u001b[39m'\u001b[39m \u001b[39m+\u001b[39m to_unit(Vo\u001b[39m*\u001b[39m\u001b[39m*\u001b[39m\u001b[39m2\u001b[39m\u001b[39m/\u001b[39mR) \u001b[39m+\u001b[39m \u001b[39m'\u001b[39m\u001b[39mW\u001b[39m\u001b[39m'\u001b[39m)\n",
      "\u001b[1;31mNameError\u001b[0m: name 'Delta_Q' is not defined"
     ]
    }
   ],
   "source": [
    "from utils import to_unit\n",
    "from boost import *\n",
    "\n",
    "# Definir una R de carga\n",
    "R = 500\n",
    "Io = Vo/R\n",
    "print('Io = ' + to_unit(Io) + 'A')\n",
    "\n",
    "# Calculamos D inicial\n",
    "D = 1 - Vd/Vo\n",
    "\n",
    "# Averiguamos si estamos en CCM o DCM\n",
    "Iob = Vo*Ts*((1-D)**2)*D / (2*L)\n",
    "print('Iob = ' + to_unit(Iob) + 'A')\n",
    "print('')\n",
    "\n",
    "if Io >= Iob:\n",
    "    # Estamos en CCM\n",
    "    print(\"Boost CCM\")\n",
    "    print(f'D = {D:.2g}')\n",
    "\n",
    "    Ix = Io/(1-D)\n",
    "    print('Ix = ' + to_unit(Ix) + 'A')\n",
    "    \n",
    "    Delta_Il = (Vd/L)*D*Ts\n",
    "    print('Delta_IL = ' + to_unit(Delta_Il) + 'A')\n",
    "    \n",
    "    IL_max = Ix + Delta_Il/2\n",
    "    print('IL_max = ' + to_unit(IL_max) + 'A')\n",
    "\n",
    "    # Calculo Delta Q\n",
    "    Delta_Q = CCM_get_Delta_Q(Vd, Vo, D, Ts, L, Io, Delta_Vo)\n",
    "\n",
    "else:\n",
    "    # Estamos en DCM\n",
    "    print(\"Boost DCM\")\n",
    "    \n",
    "    # Tiempos\n",
    "    D = np.sqrt(( 2*L*Io / (Vd*Ts)) * (Vo/Vd - 1))\n",
    "    Delta_1 = 2*L*Io / (Vd*D*Ts)\n",
    "    print(f'D = {D:.2g}')\n",
    "    print(f'Delta_1 = {Delta_1:.2g}')\n",
    "    \n",
    "    # Corrientes\n",
    "    Delta_Il = (Vd/L)*D*Ts\n",
    "    print('Delta_IL = ' + to_unit(Delta_Il) + 'A')\n",
    "    IL_max = Delta_Il\n",
    "    print('IL_max = ' + to_unit(IL_max) + 'A')\n",
    "    \n",
    "\t# Calculo Delta Q\n",
    "    Delta_Q = DCM_get_Delta_Q(Vd, Vo, D, Ts, L, Io, Delta_Vo)\n",
    "    \n",
    "Delta_Vc = Delta_Vo - Delta_Il*ESR\n",
    "C = Delta_Q/Delta_Vc\n",
    "print('C = ' + to_unit(C) + 'F')    \n",
    "    \n",
    "print('Po = ' + to_unit(Vo**2/R) + 'W')"
   ]
  },
  {
   "attachments": {},
   "cell_type": "markdown",
   "metadata": {},
   "source": [
    "# Gráficos"
   ]
  },
  {
   "attachments": {},
   "cell_type": "markdown",
   "metadata": {},
   "source": [
    "### Gráfico $I_L$"
   ]
  },
  {
   "cell_type": "code",
   "execution_count": 2,
   "metadata": {},
   "outputs": [
    {
     "name": "stdout",
     "output_type": "stream",
     "text": [
      "Io = 30mA\n"
     ]
    },
    {
     "data": {
      "text/plain": [
       "[<matplotlib.lines.Line2D at 0x202f1501210>]"
      ]
     },
     "execution_count": 2,
     "metadata": {},
     "output_type": "execute_result"
    },
    {
     "data": {
      "image/png": "[encoded data removed]",
      "text/plain": [
       "<Figure size 640x480 with 1 Axes>"
      ]
     },
     "metadata": {},
     "output_type": "display_data"
    }
   ],
   "source": [
    "from utils import to_unit\n",
    "from boost import *\n",
    "import matplotlib.pyplot as plt\n",
    "\n",
    "# Definir una R de carga\n",
    "R = 500\n",
    "Io = Vo/R\n",
    "print('Io = ' + to_unit(Io) + 'A')\n",
    "\n",
    "t = np.linspace(0, 2*Ts, 1000)\n",
    "IL = [get_IL(Vd, Vo, L, Ts, Io, ti) for ti in t]\n",
    "\n",
    "plt.plot(t, IL)"
   ]
  }
 ],
 "metadata": {
  "kernelspec": {
   "display_name": "Python 3",
   "language": "python",
   "name": "python3"
  },
  "language_info": {
   "codemirror_mode": {
    "name": "ipython",
    "version": 3
   },
   "file_extension": ".py",
   "mimetype": "text/x-python",
   "name": "python",
   "nbconvert_exporter": "python",
   "pygments_lexer": "ipython3",
   "version": "3.10.7"
  },
  "orig_nbformat": 4
 },
 "nbformat": 4,
 "nbformat_minor": 2
}
